{
 "cells": [
  {
   "cell_type": "code",
   "execution_count": 33,
   "metadata": {
    "collapsed": true
   },
   "outputs": [],
   "source": [
    "class Layer:\n",
    "    def __init__(self, name, prev = None):\n",
    "        self.next = None\n",
    "        self.initPrev(prev)\n",
    "        self.name = name\n",
    "    \n",
    "    def initPrev(self, prev):\n",
    "        self.prev = prev\n",
    "        if not (prev is None):\n",
    "            self.prev.setNext(self)\n",
    "    \n",
    "    def setNext(self, next):\n",
    "        self.next = next;\n",
    "    \n",
    "    def forward(self, x):\n",
    "        (res, self.cache) = self._forward(x)\n",
    "        if self.next is None:\n",
    "            return\n",
    "        self.next.forward(res)\n",
    "    \n",
    "    def _forward(self, x):\n",
    "        print(\"[{}]: \\tCalculating forward using '{}'\".format(self.name, x))\n",
    "        return (\"Forward result of \" + self.name, \"Forward cache of \" + self.name)\n",
    "    \n",
    "    def backward(self, x):\n",
    "        res = self._backward(x, self.cache)\n",
    "        if self.prev is None:\n",
    "            return\n",
    "        self.prev.backward(res)\n",
    "        \n",
    "    def _backward(self, x, cache):\n",
    "        print(\"[{}]: \\tCalculating backward using '{}' and '{}'\".format(self.name, x, cache))\n",
    "        return \"Backward result of \" + self.name\n",
    "        \n",
    "class Conv(Layer):\n",
    "    def __init__(self, prev):\n",
    "        super(Conv, self).__init__(\"Conv\", prev)\n",
    "        \n",
    "class Reshape(Layer):\n",
    "    def __init__(self, prev):\n",
    "        super(Reshape, self).__init__(\"Reshape\", prev)\n",
    "        \n",
    "class Affine(Layer):\n",
    "    def __init__(self, prev):\n",
    "        super(Affine, self).__init__(\"Affine\", prev)\n",
    "\n",
    "class Input(Layer):\n",
    "    def __init__(self):\n",
    "        super(Input, self).__init__(\"Input\")\n",
    "        \n",
    "class Loss(Layer):\n",
    "    def __init__(self, prev):\n",
    "        super(Loss, self).__init__(\"Loss\", prev)"
   ]
  },
  {
   "cell_type": "code",
   "execution_count": 34,
   "metadata": {
    "collapsed": false
   },
   "outputs": [
    {
     "name": "stdout",
     "output_type": "stream",
     "text": [
      "Starting forward...\n",
      "[Input]: \tCalculating forward using 'input'\n",
      "[Conv]: \tCalculating forward using 'Forward result of Input'\n",
      "[Reshape]: \tCalculating forward using 'Forward result of Conv'\n",
      "[Affine]: \tCalculating forward using 'Forward result of Reshape'\n",
      "[Loss]: \tCalculating forward using 'Forward result of Affine'\n",
      "\n",
      "Starting backward...\n",
      "[Loss]: \tCalculating backward using 'Forward cache of Loss' and 'Forward cache of Loss'\n",
      "[Affine]: \tCalculating backward using 'Backward result of Loss' and 'Forward cache of Affine'\n",
      "[Reshape]: \tCalculating backward using 'Backward result of Affine' and 'Forward cache of Reshape'\n",
      "[Conv]: \tCalculating backward using 'Backward result of Reshape' and 'Forward cache of Conv'\n",
      "[Input]: \tCalculating backward using 'Backward result of Conv' and 'Forward cache of Input'\n"
     ]
    }
   ],
   "source": [
    "i1 = Input()\n",
    "c1 = Conv(i1)\n",
    "s1 = Reshape(c1)\n",
    "a1 = Affine(s1)\n",
    "l1 = Loss(a1)\n",
    "print(\"Starting forward...\")\n",
    "i1.forward(\"input\")\n",
    "print(\"\\nStarting backward...\")\n",
    "l1.backward(l1.cache)"
   ]
  },
  {
   "cell_type": "code",
   "execution_count": null,
   "metadata": {
    "collapsed": true
   },
   "outputs": [],
   "source": []
  }
 ],
 "metadata": {
  "kernelspec": {
   "display_name": "Python [Root]",
   "language": "python",
   "name": "Python [Root]"
  },
  "language_info": {
   "codemirror_mode": {
    "name": "ipython",
    "version": 3
   },
   "file_extension": ".py",
   "mimetype": "text/x-python",
   "name": "python",
   "nbconvert_exporter": "python",
   "pygments_lexer": "ipython3",
   "version": "3.5.2"
  }
 },
 "nbformat": 4,
 "nbformat_minor": 0
}
